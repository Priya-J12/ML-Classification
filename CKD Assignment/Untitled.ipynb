{
 "cells": [
  {
   "cell_type": "code",
   "execution_count": 1,
   "id": "d24f59e4-e0a9-41a8-b5a3-5a0662e6f587",
   "metadata": {},
   "outputs": [
    {
     "name": "stdout",
     "output_type": "stream",
     "text": [
      "Shape after ravel(): (5,)\n",
      "Shape after reshape(): (5,)\n"
     ]
    }
   ],
   "source": [
    "import numpy as np\n",
    "\n",
    "# Assume y is a column vector\n",
    "y = np.array([[1], [2], [3], [4], [5]])\n",
    "\n",
    "# Option 1: Using ravel()\n",
    "y_1d = y.ravel()\n",
    "print(f\"Shape after ravel(): {y_1d.shape}\")  # Output: (5,)\n",
    "\n",
    "# Option 2: Using reshape()\n",
    "y_1d_2 = y.reshape(-1)\n",
    "print(f\"Shape after reshape(): {y_1d_2.shape}\")  # Output: (5,)\n",
    "\n",
    "# Now y_1d (or y_1d_2) is a 1D array, and the warning should be resolved"
   ]
  },
  {
   "cell_type": "code",
   "execution_count": 5,
   "id": "0aeb701b-e462-4468-b52f-0b19ecb4afcb",
   "metadata": {},
   "outputs": [
    {
     "name": "stdout",
     "output_type": "stream",
     "text": [
      "None\n"
     ]
    }
   ],
   "source": [
    "from sklearn.utils.validation import check_consistent_length\n",
    "a = [1, 2, 3]\n",
    "b = [2, 3, 4]\n",
    "c=check_consistent_length(a, b)\n",
    "print(c)"
   ]
  },
  {
   "cell_type": "code",
   "execution_count": 23,
   "id": "afd78af9-76e9-4002-99a0-cea83ae52ef0",
   "metadata": {},
   "outputs": [
    {
     "ename": "NameError",
     "evalue": "name 'logistic_model' is not defined",
     "output_type": "error",
     "traceback": [
      "\u001b[1;31m---------------------------------------------------------------------------\u001b[0m",
      "\u001b[1;31mNameError\u001b[0m                                 Traceback (most recent call last)",
      "Cell \u001b[1;32mIn[23], line 12\u001b[0m\n\u001b[0;32m      8\u001b[0m y \u001b[38;5;241m=\u001b[39m np\u001b[38;5;241m.\u001b[39mrandom\u001b[38;5;241m.\u001b[39mrand(\u001b[38;5;241m133\u001b[39m)\n\u001b[0;32m     10\u001b[0m \u001b[38;5;66;03m# Incorrect data splitting (demonstrates the error)\u001b[39;00m\n\u001b[1;32m---> 12\u001b[0m logistic_model\u001b[38;5;241m.\u001b[39mpredict_proba(data)[:,\u001b[38;5;241m1\u001b[39m]\n\u001b[0;32m     13\u001b[0m \u001b[38;5;28mprint\u001b[39m(X_train\u001b[38;5;241m.\u001b[39mshape, y_train\u001b[38;5;241m.\u001b[39mshape)\n",
      "\u001b[1;31mNameError\u001b[0m: name 'logistic_model' is not defined"
     ]
    }
   ],
   "source": [
    "    from sklearn.model_selection import train_test_split\n",
    "    import numpy as np\n",
    "    from sklearn.linear_model import LogisticRegression\n",
    "    \n",
    "\n",
    "    # Sample data (replace with your actual data)\n",
    "    X = np.random.rand(133, 10)\n",
    "    y = np.random.rand(133)\n",
    "\n",
    "    # Incorrect data splitting (demonstrates the error)\n",
    "\n",
    "    logistic_model.predict_proba(data)[:,1]\n",
    "    print(X_train.shape, y_train.shape)\n",
    "   "
   ]
  },
  {
   "cell_type": "code",
   "execution_count": null,
   "id": "c870bda3-66d9-4673-bf13-77bde0ea4217",
   "metadata": {},
   "outputs": [],
   "source": []
  }
 ],
 "metadata": {
  "kernelspec": {
   "display_name": "Python [conda env:base] *",
   "language": "python",
   "name": "conda-base-py"
  },
  "language_info": {
   "codemirror_mode": {
    "name": "ipython",
    "version": 3
   },
   "file_extension": ".py",
   "mimetype": "text/x-python",
   "name": "python",
   "nbconvert_exporter": "python",
   "pygments_lexer": "ipython3",
   "version": "3.12.7"
  }
 },
 "nbformat": 4,
 "nbformat_minor": 5
}
